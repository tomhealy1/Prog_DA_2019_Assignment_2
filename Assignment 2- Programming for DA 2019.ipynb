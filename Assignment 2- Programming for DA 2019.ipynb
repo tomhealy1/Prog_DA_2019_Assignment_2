{
 "cells": [
  {
   "cell_type": "markdown",
   "metadata": {},
   "source": [
    "![title](images/gmit.PNG)"
   ]
  },
  {
   "cell_type": "markdown",
   "metadata": {},
   "source": [
    "## GMIT HDip Data Analytics 2019\n",
    "## Fundamentals of Data Analysis - Semester 2 - Assignment 1\n",
    "## Thomas Healy G00376351"
   ]
  },
  {
   "cell_type": "markdown",
   "metadata": {},
   "source": [
    "![title](images/numpya.PNG) "
   ]
  },
  {
   "cell_type": "markdown",
   "metadata": {},
   "source": [
    "## Table of contents\n",
    "\n",
    "#### 1. Description of the assignment and selection of real world phenomenon\n",
    "#### 2. Investigation of phenonmenon's variables\n",
    "#### 3. Synthesis a dataset\n",
    "#### 4. Detail research and implement the simulation"
   ]
  },
  {
   "cell_type": "markdown",
   "metadata": {},
   "source": [
    "# 1. Description of assignment and selection of real world phenomenon\n",
    "\n",
    "The assignment is re-create a real world phenonmenon using the ```numpy.random``` package to model the distributions in the phenomenon I have chosen. The phenonmenon I have chosen is that of HR data. The IBM dataset is a popular dataset that IBM developed to allow machine learning be ran on relatively large (1470 rows with 35 columns). It is a contrived datset as there are serious privacy and ethical issues surrounding the use of 'real' HR data in data science. I have selected this phenomenon as working in HR it can be difficult to find datasets that are relevant and generating my own dataset will be very handy as it can be used for HR or people Analytics purposes. I propose to take a few columns below and plot their distribution and then change some of them and build our own dataset based of that.\n",
    "\n",
    "As HR has adopted a more data centric mindset, I think HR Generalists should have a good grounding in understanding the data they are guardians for in an organisation. \n",
    "\n",
    "The data(camelCase) that will make up our datatset are :\n",
    "\n",
    "* EmployeeID\n",
    "* CommuteDist\n",
    "* SatisfactionLevel\n",
    "* MonthlyHours\n",
    "* Department\n",
    "* Salary\n",
    "* TimeSincePromo\n",
    "* Tenure \n",
    "* Manager\n",
    "* Churn\n",
    "* PerformanceReview\n",
    "* Age\n",
    "* Gender\n",
    "\n",
    "\n",
    "\n"
   ]
  },
  {
   "cell_type": "code",
   "execution_count": 157,
   "metadata": {},
   "outputs": [],
   "source": [
    "#Import our Packages, tell jupyter we want our plot inline and set the grid style in seaborn for more contrast\n",
    "import pandas as pd\n",
    "import numpy as np\n",
    "import matplotlib.pyplot as plt\n",
    "%matplotlib inline\n",
    "import seaborn as sns\n",
    "sns.set_style(\"darkgrid\")"
   ]
  },
  {
   "cell_type": "markdown",
   "metadata": {},
   "source": [
    "# 2. Investigation of phenonmenon's variables"
   ]
  },
  {
   "cell_type": "markdown",
   "metadata": {},
   "source": [
    "I will print some decriptive stats here to give us some guidelines of the data we need to re-create. This should take care of the numercial data. I will use countplots to understand the distribution of the  "
   ]
  },
  {
   "cell_type": "code",
   "execution_count": 158,
   "metadata": {},
   "outputs": [],
   "source": [
    "df = pd.read_csv('IBMHRdata_set.csv')"
   ]
  },
  {
   "cell_type": "code",
   "execution_count": 159,
   "metadata": {},
   "outputs": [
    {
     "name": "stdout",
     "output_type": "stream",
     "text": [
      "<class 'pandas.core.frame.DataFrame'>\n",
      "RangeIndex: 1470 entries, 0 to 1469\n",
      "Data columns (total 35 columns):\n",
      "Age                         1470 non-null int64\n",
      "Attrition                   1470 non-null object\n",
      "BusinessTravel              1470 non-null object\n",
      "DailyRate                   1470 non-null int64\n",
      "Department                  1470 non-null object\n",
      "DistanceFromHome            1470 non-null int64\n",
      "Education                   1470 non-null int64\n",
      "EducationField              1470 non-null object\n",
      "EmployeeCount               1470 non-null int64\n",
      "EmployeeNumber              1470 non-null int64\n",
      "EnvironmentSatisfaction     1470 non-null int64\n",
      "Gender                      1470 non-null object\n",
      "HourlyRate                  1470 non-null int64\n",
      "JobInvolvement              1470 non-null int64\n",
      "JobLevel                    1470 non-null int64\n",
      "JobRole                     1470 non-null object\n",
      "JobSatisfaction             1470 non-null int64\n",
      "MaritalStatus               1470 non-null object\n",
      "MonthlyIncome               1470 non-null int64\n",
      "MonthlyRate                 1470 non-null int64\n",
      "NumCompaniesWorked          1470 non-null int64\n",
      "Over18                      1470 non-null object\n",
      "OverTime                    1470 non-null object\n",
      "PercentSalaryHike           1470 non-null int64\n",
      "PerformanceRating           1470 non-null int64\n",
      "RelationshipSatisfaction    1470 non-null int64\n",
      "StandardHours               1470 non-null int64\n",
      "StockOptionLevel            1470 non-null int64\n",
      "TotalWorkingYears           1470 non-null int64\n",
      "TrainingTimesLastYear       1470 non-null int64\n",
      "WorkLifeBalance             1470 non-null int64\n",
      "YearsAtCompany              1470 non-null int64\n",
      "YearsInCurrentRole          1470 non-null int64\n",
      "YearsSinceLastPromotion     1470 non-null int64\n",
      "YearsWithCurrManager        1470 non-null int64\n",
      "dtypes: int64(26), object(9)\n",
      "memory usage: 402.0+ KB\n",
      "None\n",
      "               Age    DailyRate  DistanceFromHome    Education  EmployeeCount  \\\n",
      "count  1470.000000  1470.000000       1470.000000  1470.000000         1470.0   \n",
      "mean     36.923810   802.485714          9.192517     2.912925            1.0   \n",
      "std       9.135373   403.509100          8.106864     1.024165            0.0   \n",
      "min      18.000000   102.000000          1.000000     1.000000            1.0   \n",
      "25%      30.000000   465.000000          2.000000     2.000000            1.0   \n",
      "50%      36.000000   802.000000          7.000000     3.000000            1.0   \n",
      "75%      43.000000  1157.000000         14.000000     4.000000            1.0   \n",
      "max      60.000000  1499.000000         29.000000     5.000000            1.0   \n",
      "\n",
      "       EmployeeNumber  EnvironmentSatisfaction   HourlyRate  JobInvolvement  \\\n",
      "count     1470.000000              1470.000000  1470.000000     1470.000000   \n",
      "mean      1024.865306                 2.721769    65.891156        2.729932   \n",
      "std        602.024335                 1.093082    20.329428        0.711561   \n",
      "min          1.000000                 1.000000    30.000000        1.000000   \n",
      "25%        491.250000                 2.000000    48.000000        2.000000   \n",
      "50%       1020.500000                 3.000000    66.000000        3.000000   \n",
      "75%       1555.750000                 4.000000    83.750000        3.000000   \n",
      "max       2068.000000                 4.000000   100.000000        4.000000   \n",
      "\n",
      "          JobLevel          ...           RelationshipSatisfaction  \\\n",
      "count  1470.000000          ...                        1470.000000   \n",
      "mean      2.063946          ...                           2.712245   \n",
      "std       1.106940          ...                           1.081209   \n",
      "min       1.000000          ...                           1.000000   \n",
      "25%       1.000000          ...                           2.000000   \n",
      "50%       2.000000          ...                           3.000000   \n",
      "75%       3.000000          ...                           4.000000   \n",
      "max       5.000000          ...                           4.000000   \n",
      "\n",
      "       StandardHours  StockOptionLevel  TotalWorkingYears  \\\n",
      "count         1470.0       1470.000000        1470.000000   \n",
      "mean            80.0          0.793878          11.279592   \n",
      "std              0.0          0.852077           7.780782   \n",
      "min             80.0          0.000000           0.000000   \n",
      "25%             80.0          0.000000           6.000000   \n",
      "50%             80.0          1.000000          10.000000   \n",
      "75%             80.0          1.000000          15.000000   \n",
      "max             80.0          3.000000          40.000000   \n",
      "\n",
      "       TrainingTimesLastYear  WorkLifeBalance  YearsAtCompany  \\\n",
      "count            1470.000000      1470.000000     1470.000000   \n",
      "mean                2.799320         2.761224        7.008163   \n",
      "std                 1.289271         0.706476        6.126525   \n",
      "min                 0.000000         1.000000        0.000000   \n",
      "25%                 2.000000         2.000000        3.000000   \n",
      "50%                 3.000000         3.000000        5.000000   \n",
      "75%                 3.000000         3.000000        9.000000   \n",
      "max                 6.000000         4.000000       40.000000   \n",
      "\n",
      "       YearsInCurrentRole  YearsSinceLastPromotion  YearsWithCurrManager  \n",
      "count         1470.000000              1470.000000           1470.000000  \n",
      "mean             4.229252                 2.187755              4.123129  \n",
      "std              3.623137                 3.222430              3.568136  \n",
      "min              0.000000                 0.000000              0.000000  \n",
      "25%              2.000000                 0.000000              2.000000  \n",
      "50%              3.000000                 1.000000              3.000000  \n",
      "75%              7.000000                 3.000000              7.000000  \n",
      "max             18.000000                15.000000             17.000000  \n",
      "\n",
      "[8 rows x 26 columns]\n"
     ]
    }
   ],
   "source": [
    "print(df.info())\n",
    "print(df.describe())"
   ]
  },
  {
   "cell_type": "code",
   "execution_count": 160,
   "metadata": {},
   "outputs": [],
   "source": [
    "#df.profile_report()"
   ]
  },
  {
   "cell_type": "code",
   "execution_count": 161,
   "metadata": {},
   "outputs": [
    {
     "name": "stdout",
     "output_type": "stream",
     "text": [
      "      Age Attrition     BusinessTravel  DailyRate              Department  \\\n",
      "0      41       Yes      Travel_Rarely       1102                   Sales   \n",
      "1      49        No  Travel_Frequently        279  Research & Development   \n",
      "2      37       Yes      Travel_Rarely       1373  Research & Development   \n",
      "3      33        No  Travel_Frequently       1392  Research & Development   \n",
      "4      27        No      Travel_Rarely        591  Research & Development   \n",
      "5      32        No  Travel_Frequently       1005  Research & Development   \n",
      "6      59        No      Travel_Rarely       1324  Research & Development   \n",
      "7      30        No      Travel_Rarely       1358  Research & Development   \n",
      "8      38        No  Travel_Frequently        216  Research & Development   \n",
      "9      36        No      Travel_Rarely       1299  Research & Development   \n",
      "10     35        No      Travel_Rarely        809  Research & Development   \n",
      "11     29        No      Travel_Rarely        153  Research & Development   \n",
      "12     31        No      Travel_Rarely        670  Research & Development   \n",
      "13     34        No      Travel_Rarely       1346  Research & Development   \n",
      "14     28       Yes      Travel_Rarely        103  Research & Development   \n",
      "15     29        No      Travel_Rarely       1389  Research & Development   \n",
      "16     32        No      Travel_Rarely        334  Research & Development   \n",
      "17     22        No         Non-Travel       1123  Research & Development   \n",
      "18     53        No      Travel_Rarely       1219                   Sales   \n",
      "19     38        No      Travel_Rarely        371  Research & Development   \n",
      "20     24        No         Non-Travel        673  Research & Development   \n",
      "21     36       Yes      Travel_Rarely       1218                   Sales   \n",
      "22     34        No      Travel_Rarely        419  Research & Development   \n",
      "23     21        No      Travel_Rarely        391  Research & Development   \n",
      "24     34       Yes      Travel_Rarely        699  Research & Development   \n",
      "25     53        No      Travel_Rarely       1282  Research & Development   \n",
      "26     32       Yes  Travel_Frequently       1125  Research & Development   \n",
      "27     42        No      Travel_Rarely        691                   Sales   \n",
      "28     44        No      Travel_Rarely        477  Research & Development   \n",
      "29     46        No      Travel_Rarely        705                   Sales   \n",
      "...   ...       ...                ...        ...                     ...   \n",
      "1440   36        No  Travel_Frequently        688  Research & Development   \n",
      "1441   56        No         Non-Travel        667  Research & Development   \n",
      "1442   29       Yes      Travel_Rarely       1092  Research & Development   \n",
      "1443   42        No      Travel_Rarely        300  Research & Development   \n",
      "1444   56       Yes      Travel_Rarely        310  Research & Development   \n",
      "1445   41        No      Travel_Rarely        582  Research & Development   \n",
      "1446   34        No      Travel_Rarely        704                   Sales   \n",
      "1447   36        No         Non-Travel        301                   Sales   \n",
      "1448   41        No      Travel_Rarely        930                   Sales   \n",
      "1449   32        No      Travel_Rarely        529  Research & Development   \n",
      "1450   35        No      Travel_Rarely       1146         Human Resources   \n",
      "1451   38        No      Travel_Rarely        345                   Sales   \n",
      "1452   50       Yes  Travel_Frequently        878                   Sales   \n",
      "1453   36        No      Travel_Rarely       1120                   Sales   \n",
      "1454   45        No      Travel_Rarely        374                   Sales   \n",
      "1455   40        No      Travel_Rarely       1322  Research & Development   \n",
      "1456   35        No  Travel_Frequently       1199  Research & Development   \n",
      "1457   40        No      Travel_Rarely       1194  Research & Development   \n",
      "1458   35        No      Travel_Rarely        287  Research & Development   \n",
      "1459   29        No      Travel_Rarely       1378  Research & Development   \n",
      "1460   29        No      Travel_Rarely        468  Research & Development   \n",
      "1461   50       Yes      Travel_Rarely        410                   Sales   \n",
      "1462   39        No      Travel_Rarely        722                   Sales   \n",
      "1463   31        No         Non-Travel        325  Research & Development   \n",
      "1464   26        No      Travel_Rarely       1167                   Sales   \n",
      "1465   36        No  Travel_Frequently        884  Research & Development   \n",
      "1466   39        No      Travel_Rarely        613  Research & Development   \n",
      "1467   27        No      Travel_Rarely        155  Research & Development   \n",
      "1468   49        No  Travel_Frequently       1023                   Sales   \n",
      "1469   34        No      Travel_Rarely        628  Research & Development   \n",
      "\n",
      "      DistanceFromHome  Education    EducationField  EmployeeCount  \\\n",
      "0                    1          2     Life Sciences              1   \n",
      "1                    8          1     Life Sciences              1   \n",
      "2                    2          2             Other              1   \n",
      "3                    3          4     Life Sciences              1   \n",
      "4                    2          1           Medical              1   \n",
      "5                    2          2     Life Sciences              1   \n",
      "6                    3          3           Medical              1   \n",
      "7                   24          1     Life Sciences              1   \n",
      "8                   23          3     Life Sciences              1   \n",
      "9                   27          3           Medical              1   \n",
      "10                  16          3           Medical              1   \n",
      "11                  15          2     Life Sciences              1   \n",
      "12                  26          1     Life Sciences              1   \n",
      "13                  19          2           Medical              1   \n",
      "14                  24          3     Life Sciences              1   \n",
      "15                  21          4     Life Sciences              1   \n",
      "16                   5          2     Life Sciences              1   \n",
      "17                  16          2           Medical              1   \n",
      "18                   2          4     Life Sciences              1   \n",
      "19                   2          3     Life Sciences              1   \n",
      "20                  11          2             Other              1   \n",
      "21                   9          4     Life Sciences              1   \n",
      "22                   7          4     Life Sciences              1   \n",
      "23                  15          2     Life Sciences              1   \n",
      "24                   6          1           Medical              1   \n",
      "25                   5          3             Other              1   \n",
      "26                  16          1     Life Sciences              1   \n",
      "27                   8          4         Marketing              1   \n",
      "28                   7          4           Medical              1   \n",
      "29                   2          4         Marketing              1   \n",
      "...                ...        ...               ...            ...   \n",
      "1440                 4          2     Life Sciences              1   \n",
      "1441                 1          4     Life Sciences              1   \n",
      "1442                 1          4           Medical              1   \n",
      "1443                 2          3     Life Sciences              1   \n",
      "1444                 7          2  Technical Degree              1   \n",
      "1445                28          4     Life Sciences              1   \n",
      "1446                28          3         Marketing              1   \n",
      "1447                15          4         Marketing              1   \n",
      "1448                 3          3     Life Sciences              1   \n",
      "1449                 2          3  Technical Degree              1   \n",
      "1450                26          4     Life Sciences              1   \n",
      "1451                10          2     Life Sciences              1   \n",
      "1452                 1          4     Life Sciences              1   \n",
      "1453                11          4         Marketing              1   \n",
      "1454                20          3     Life Sciences              1   \n",
      "1455                 2          4     Life Sciences              1   \n",
      "1456                18          4     Life Sciences              1   \n",
      "1457                 2          4           Medical              1   \n",
      "1458                 1          4     Life Sciences              1   \n",
      "1459                13          2             Other              1   \n",
      "1460                28          4           Medical              1   \n",
      "1461                28          3         Marketing              1   \n",
      "1462                24          1         Marketing              1   \n",
      "1463                 5          3           Medical              1   \n",
      "1464                 5          3             Other              1   \n",
      "1465                23          2           Medical              1   \n",
      "1466                 6          1           Medical              1   \n",
      "1467                 4          3     Life Sciences              1   \n",
      "1468                 2          3           Medical              1   \n",
      "1469                 8          3           Medical              1   \n",
      "\n",
      "      EmployeeNumber          ...           RelationshipSatisfaction  \\\n",
      "0                  1          ...                                  1   \n",
      "1                  2          ...                                  4   \n",
      "2                  4          ...                                  2   \n",
      "3                  5          ...                                  3   \n",
      "4                  7          ...                                  4   \n",
      "5                  8          ...                                  3   \n",
      "6                 10          ...                                  1   \n",
      "7                 11          ...                                  2   \n",
      "8                 12          ...                                  2   \n",
      "9                 13          ...                                  2   \n",
      "10                14          ...                                  3   \n",
      "11                15          ...                                  4   \n",
      "12                16          ...                                  4   \n",
      "13                18          ...                                  3   \n",
      "14                19          ...                                  2   \n",
      "15                20          ...                                  3   \n",
      "16                21          ...                                  4   \n",
      "17                22          ...                                  2   \n",
      "18                23          ...                                  3   \n",
      "19                24          ...                                  3   \n",
      "20                26          ...                                  4   \n",
      "21                27          ...                                  2   \n",
      "22                28          ...                                  3   \n",
      "23                30          ...                                  4   \n",
      "24                31          ...                                  3   \n",
      "25                32          ...                                  4   \n",
      "26                33          ...                                  2   \n",
      "27                35          ...                                  4   \n",
      "28                36          ...                                  4   \n",
      "29                38          ...                                  4   \n",
      "...              ...          ...                                ...   \n",
      "1440            2025          ...                                  2   \n",
      "1441            2026          ...                                  1   \n",
      "1442            2027          ...                                  2   \n",
      "1443            2031          ...                                  1   \n",
      "1444            2032          ...                                  4   \n",
      "1445            2034          ...                                  3   \n",
      "1446            2035          ...                                  4   \n",
      "1447            2036          ...                                  1   \n",
      "1448            2037          ...                                  3   \n",
      "1449            2038          ...                                  4   \n",
      "1450            2040          ...                                  3   \n",
      "1451            2041          ...                                  3   \n",
      "1452            2044          ...                                  4   \n",
      "1453            2045          ...                                  1   \n",
      "1454            2046          ...                                  3   \n",
      "1455            2048          ...                                  4   \n",
      "1456            2049          ...                                  4   \n",
      "1457            2051          ...                                  2   \n",
      "1458            2052          ...                                  4   \n",
      "1459            2053          ...                                  1   \n",
      "1460            2054          ...                                  2   \n",
      "1461            2055          ...                                  2   \n",
      "1462            2056          ...                                  1   \n",
      "1463            2057          ...                                  2   \n",
      "1464            2060          ...                                  4   \n",
      "1465            2061          ...                                  3   \n",
      "1466            2062          ...                                  1   \n",
      "1467            2064          ...                                  2   \n",
      "1468            2065          ...                                  4   \n",
      "1469            2068          ...                                  1   \n",
      "\n",
      "     StandardHours  StockOptionLevel  TotalWorkingYears  \\\n",
      "0               80                 0                  8   \n",
      "1               80                 1                 10   \n",
      "2               80                 0                  7   \n",
      "3               80                 0                  8   \n",
      "4               80                 1                  6   \n",
      "5               80                 0                  8   \n",
      "6               80                 3                 12   \n",
      "7               80                 1                  1   \n",
      "8               80                 0                 10   \n",
      "9               80                 2                 17   \n",
      "10              80                 1                  6   \n",
      "11              80                 0                 10   \n",
      "12              80                 1                  5   \n",
      "13              80                 1                  3   \n",
      "14              80                 0                  6   \n",
      "15              80                 1                 10   \n",
      "16              80                 2                  7   \n",
      "17              80                 2                  1   \n",
      "18              80                 0                 31   \n",
      "19              80                 0                  6   \n",
      "20              80                 1                  5   \n",
      "21              80                 0                 10   \n",
      "22              80                 0                 13   \n",
      "23              80                 0                  0   \n",
      "24              80                 0                  8   \n",
      "25              80                 1                 26   \n",
      "26              80                 0                 10   \n",
      "27              80                 1                 10   \n",
      "28              80                 1                 24   \n",
      "29              80                 0                 22   \n",
      "...            ...               ...                ...   \n",
      "1440            80                 3                 18   \n",
      "1441            80                 1                 13   \n",
      "1442            80                 3                  4   \n",
      "1443            80                 0                 24   \n",
      "1444            80                 1                 14   \n",
      "1445            80                 1                 21   \n",
      "1446            80                 2                  8   \n",
      "1447            80                 1                 15   \n",
      "1448            80                 1                 14   \n",
      "1449            80                 0                  4   \n",
      "1450            80                 0                  9   \n",
      "1451            80                 1                 10   \n",
      "1452            80                 2                 12   \n",
      "1453            80                 1                  8   \n",
      "1454            80                 0                  8   \n",
      "1455            80                 0                  8   \n",
      "1456            80                 2                 10   \n",
      "1457            80                 3                 20   \n",
      "1458            80                 1                  4   \n",
      "1459            80                 1                 10   \n",
      "1460            80                 0                  5   \n",
      "1461            80                 1                 20   \n",
      "1462            80                 1                 21   \n",
      "1463            80                 0                 10   \n",
      "1464            80                 0                  5   \n",
      "1465            80                 1                 17   \n",
      "1466            80                 1                  9   \n",
      "1467            80                 1                  6   \n",
      "1468            80                 0                 17   \n",
      "1469            80                 0                  6   \n",
      "\n",
      "      TrainingTimesLastYear WorkLifeBalance  YearsAtCompany  \\\n",
      "0                         0               1               6   \n",
      "1                         3               3              10   \n",
      "2                         3               3               0   \n",
      "3                         3               3               8   \n",
      "4                         3               3               2   \n",
      "5                         2               2               7   \n",
      "6                         3               2               1   \n",
      "7                         2               3               1   \n",
      "8                         2               3               9   \n",
      "9                         3               2               7   \n",
      "10                        5               3               5   \n",
      "11                        3               3               9   \n",
      "12                        1               2               5   \n",
      "13                        2               3               2   \n",
      "14                        4               3               4   \n",
      "15                        1               3              10   \n",
      "16                        5               2               6   \n",
      "17                        2               2               1   \n",
      "18                        3               3              25   \n",
      "19                        3               3               3   \n",
      "20                        5               2               4   \n",
      "21                        4               3               5   \n",
      "22                        4               3              12   \n",
      "23                        6               3               0   \n",
      "24                        2               3               4   \n",
      "25                        3               2              14   \n",
      "26                        5               3              10   \n",
      "27                        2               3               9   \n",
      "28                        4               3              22   \n",
      "29                        2               2               2   \n",
      "...                     ...             ...             ...   \n",
      "1440                      3               3               4   \n",
      "1441                      2               2              13   \n",
      "1442                      3               4               2   \n",
      "1443                      2               2              22   \n",
      "1444                      4               1              10   \n",
      "1445                      3               3              20   \n",
      "1446                      2               3               8   \n",
      "1447                      4               2              15   \n",
      "1448                      5               3               5   \n",
      "1449                      4               3               4   \n",
      "1450                      2               3               9   \n",
      "1451                      1               3              10   \n",
      "1452                      3               3               6   \n",
      "1453                      2               2               6   \n",
      "1454                      3               3               5   \n",
      "1455                      2               3               2   \n",
      "1456                      2               4              10   \n",
      "1457                      2               3               5   \n",
      "1458                      5               3               4   \n",
      "1459                      2               3               4   \n",
      "1460                      3               1               5   \n",
      "1461                      3               3               3   \n",
      "1462                      2               2              20   \n",
      "1463                      2               3               9   \n",
      "1464                      2               3               4   \n",
      "1465                      3               3               5   \n",
      "1466                      5               3               7   \n",
      "1467                      0               3               6   \n",
      "1468                      3               2               9   \n",
      "1469                      3               4               4   \n",
      "\n",
      "     YearsInCurrentRole  YearsSinceLastPromotion  YearsWithCurrManager  \n",
      "0                     4                        0                     5  \n",
      "1                     7                        1                     7  \n",
      "2                     0                        0                     0  \n",
      "3                     7                        3                     0  \n",
      "4                     2                        2                     2  \n",
      "5                     7                        3                     6  \n",
      "6                     0                        0                     0  \n",
      "7                     0                        0                     0  \n",
      "8                     7                        1                     8  \n",
      "9                     7                        7                     7  \n",
      "10                    4                        0                     3  \n",
      "11                    5                        0                     8  \n",
      "12                    2                        4                     3  \n",
      "13                    2                        1                     2  \n",
      "14                    2                        0                     3  \n",
      "15                    9                        8                     8  \n",
      "16                    2                        0                     5  \n",
      "17                    0                        0                     0  \n",
      "18                    8                        3                     7  \n",
      "19                    2                        1                     2  \n",
      "20                    2                        1                     3  \n",
      "21                    3                        0                     3  \n",
      "22                    6                        2                    11  \n",
      "23                    0                        0                     0  \n",
      "24                    2                        1                     3  \n",
      "25                   13                        4                     8  \n",
      "26                    2                        6                     7  \n",
      "27                    7                        4                     2  \n",
      "28                    6                        5                    17  \n",
      "29                    2                        2                     1  \n",
      "...                 ...                      ...                   ...  \n",
      "1440                  2                        0                     2  \n",
      "1441                 12                        1                     9  \n",
      "1442                  2                        2                     2  \n",
      "1443                  6                        4                    14  \n",
      "1444                  9                        9                     8  \n",
      "1445                  7                        0                    10  \n",
      "1446                  7                        1                     7  \n",
      "1447                 12                       11                    11  \n",
      "1448                  4                        0                     4  \n",
      "1449                  2                        1                     2  \n",
      "1450                  0                        1                     7  \n",
      "1451                  7                        1                     9  \n",
      "1452                  3                        0                     1  \n",
      "1453                  3                        0                     0  \n",
      "1454                  3                        0                     1  \n",
      "1455                  2                        2                     2  \n",
      "1456                  2                        0                     2  \n",
      "1457                  3                        0                     2  \n",
      "1458                  3                        1                     1  \n",
      "1459                  3                        0                     3  \n",
      "1460                  4                        0                     4  \n",
      "1461                  2                        2                     0  \n",
      "1462                  9                        9                     6  \n",
      "1463                  4                        1                     7  \n",
      "1464                  2                        0                     0  \n",
      "1465                  2                        0                     3  \n",
      "1466                  7                        1                     7  \n",
      "1467                  2                        0                     3  \n",
      "1468                  6                        0                     8  \n",
      "1469                  3                        1                     2  \n",
      "\n",
      "[1470 rows x 35 columns]\n"
     ]
    }
   ],
   "source": [
    "print(df)"
   ]
  },
  {
   "cell_type": "code",
   "execution_count": 162,
   "metadata": {},
   "outputs": [
    {
     "name": "stdout",
     "output_type": "stream",
     "text": [
      "AxesSubplot(0.125,0.125;0.775x0.755)\n",
      "AxesSubplot(0.125,0.125;0.775x0.755)\n"
     ]
    },
    {
     "data": {
      "text/plain": [
       "<function matplotlib.pyplot.show(*args, **kw)>"
      ]
     },
     "execution_count": 162,
     "metadata": {},
     "output_type": "execute_result"
    },
    {
     "data": {
      "image/png": "[encoded data removed]",
      "text/plain": [
       "<Figure size 432x288 with 1 Axes>"
      ]
     },
     "metadata": {},
     "output_type": "display_data"
    }
   ],
   "source": [
    "print(sns.distplot(df['Age']))\n",
    "print(sns.distplot(df['DistanceFromHome']))\n",
    "plt.title('Combined Distribution plot of Age and Distance')\n",
    "plt.show"
   ]
  },
  {
   "cell_type": "code",
   "execution_count": 163,
   "metadata": {},
   "outputs": [
    {
     "name": "stdout",
     "output_type": "stream",
     "text": [
      "AxesSubplot(0.125,0.125;0.775x0.755)\n"
     ]
    },
    {
     "data": {
      "text/plain": [
       "<function matplotlib.pyplot.show(*args, **kw)>"
      ]
     },
     "execution_count": 163,
     "metadata": {},
     "output_type": "execute_result"
    },
    {
     "data": {
      "image/png": "[encoded data removed]",
      "text/plain": [
       "<Figure size 432x288 with 1 Axes>"
      ]
     },
     "metadata": {},
     "output_type": "display_data"
    }
   ],
   "source": [
    "print(sns.distplot(df['DistanceFromHome']))\n",
    "plt.title('Distribution plot of DistanceFromHome')\n",
    "plt.show"
   ]
  },
  {
   "cell_type": "code",
   "execution_count": 164,
   "metadata": {},
   "outputs": [
    {
     "name": "stdout",
     "output_type": "stream",
     "text": [
      "AxesSubplot(0.125,0.125;0.775x0.755)\n"
     ]
    },
    {
     "data": {
      "text/plain": [
       "<function matplotlib.pyplot.show(*args, **kw)>"
      ]
     },
     "execution_count": 164,
     "metadata": {},
     "output_type": "execute_result"
    },
    {
     "data": {
      "image/png": "[encoded data removed]",
      "text/plain": [
       "<Figure size 432x288 with 1 Axes>"
      ]
     },
     "metadata": {},
     "output_type": "display_data"
    }
   ],
   "source": [
    "print(sns.distplot(df['YearsSinceLastPromotion']))\n",
    "plt.title('Distribution plot of Time since promotion')\n",
    "plt.show"
   ]
  },
  {
   "cell_type": "code",
   "execution_count": 165,
   "metadata": {},
   "outputs": [
    {
     "name": "stdout",
     "output_type": "stream",
     "text": [
      "AxesSubplot(0.125,0.125;0.775x0.755)\n"
     ]
    },
    {
     "data": {
      "text/plain": [
       "<function matplotlib.pyplot.show(*args, **kw)>"
      ]
     },
     "execution_count": 165,
     "metadata": {},
     "output_type": "execute_result"
    },
    {
     "data": {
      "image/png": "[encoded data removed]",
      "text/plain": [
       "<Figure size 432x288 with 1 Axes>"
      ]
     },
     "metadata": {},
     "output_type": "display_data"
    }
   ],
   "source": [
    "print(sns.distplot(df['JobSatisfaction']))\n",
    "plt.title('Distribution plot of JobSatisfaction')\n",
    "plt.show"
   ]
  },
  {
   "cell_type": "code",
   "execution_count": null,
   "metadata": {},
   "outputs": [],
   "source": []
  },
  {
   "cell_type": "code",
   "execution_count": null,
   "metadata": {},
   "outputs": [],
   "source": []
  },
  {
   "cell_type": "code",
   "execution_count": null,
   "metadata": {},
   "outputs": [],
   "source": []
  },
  {
   "cell_type": "code",
   "execution_count": null,
   "metadata": {},
   "outputs": [],
   "source": []
  },
  {
   "cell_type": "code",
   "execution_count": null,
   "metadata": {},
   "outputs": [],
   "source": []
  },
  {
   "cell_type": "code",
   "execution_count": 166,
   "metadata": {},
   "outputs": [
    {
     "name": "stdout",
     "output_type": "stream",
     "text": [
      "AxesSubplot(0.125,0.125;0.775x0.755)\n"
     ]
    },
    {
     "data": {
      "image/png": "[encoded data removed]",
      "text/plain": [
       "<Figure size 432x288 with 1 Axes>"
      ]
     },
     "metadata": {},
     "output_type": "display_data"
    }
   ],
   "source": [
    "print(sns.distplot(df['StandardHours']))"
   ]
  },
  {
   "cell_type": "markdown",
   "metadata": {},
   "source": [
    "Hmm this looks a bit suspicious so I think we will adopt a more realistic appraoch monthly hours."
   ]
  },
  {
   "cell_type": "code",
   "execution_count": 167,
   "metadata": {},
   "outputs": [
    {
     "name": "stdout",
     "output_type": "stream",
     "text": [
      "<bound method NDFrame.head of       Age Attrition     BusinessTravel  DailyRate              Department  \\\n",
      "0      41       Yes      Travel_Rarely       1102                   Sales   \n",
      "1      49        No  Travel_Frequently        279  Research & Development   \n",
      "2      37       Yes      Travel_Rarely       1373  Research & Development   \n",
      "3      33        No  Travel_Frequently       1392  Research & Development   \n",
      "4      27        No      Travel_Rarely        591  Research & Development   \n",
      "5      32        No  Travel_Frequently       1005  Research & Development   \n",
      "6      59        No      Travel_Rarely       1324  Research & Development   \n",
      "7      30        No      Travel_Rarely       1358  Research & Development   \n",
      "8      38        No  Travel_Frequently        216  Research & Development   \n",
      "9      36        No      Travel_Rarely       1299  Research & Development   \n",
      "10     35        No      Travel_Rarely        809  Research & Development   \n",
      "11     29        No      Travel_Rarely        153  Research & Development   \n",
      "12     31        No      Travel_Rarely        670  Research & Development   \n",
      "13     34        No      Travel_Rarely       1346  Research & Development   \n",
      "14     28       Yes      Travel_Rarely        103  Research & Development   \n",
      "15     29        No      Travel_Rarely       1389  Research & Development   \n",
      "16     32        No      Travel_Rarely        334  Research & Development   \n",
      "17     22        No         Non-Travel       1123  Research & Development   \n",
      "18     53        No      Travel_Rarely       1219                   Sales   \n",
      "19     38        No      Travel_Rarely        371  Research & Development   \n",
      "20     24        No         Non-Travel        673  Research & Development   \n",
      "21     36       Yes      Travel_Rarely       1218                   Sales   \n",
      "22     34        No      Travel_Rarely        419  Research & Development   \n",
      "23     21        No      Travel_Rarely        391  Research & Development   \n",
      "24     34       Yes      Travel_Rarely        699  Research & Development   \n",
      "25     53        No      Travel_Rarely       1282  Research & Development   \n",
      "26     32       Yes  Travel_Frequently       1125  Research & Development   \n",
      "27     42        No      Travel_Rarely        691                   Sales   \n",
      "28     44        No      Travel_Rarely        477  Research & Development   \n",
      "29     46        No      Travel_Rarely        705                   Sales   \n",
      "...   ...       ...                ...        ...                     ...   \n",
      "1440   36        No  Travel_Frequently        688  Research & Development   \n",
      "1441   56        No         Non-Travel        667  Research & Development   \n",
      "1442   29       Yes      Travel_Rarely       1092  Research & Development   \n",
      "1443   42        No      Travel_Rarely        300  Research & Development   \n",
      "1444   56       Yes      Travel_Rarely        310  Research & Development   \n",
      "1445   41        No      Travel_Rarely        582  Research & Development   \n",
      "1446   34        No      Travel_Rarely        704                   Sales   \n",
      "1447   36        No         Non-Travel        301                   Sales   \n",
      "1448   41        No      Travel_Rarely        930                   Sales   \n",
      "1449   32        No      Travel_Rarely        529  Research & Development   \n",
      "1450   35        No      Travel_Rarely       1146         Human Resources   \n",
      "1451   38        No      Travel_Rarely        345                   Sales   \n",
      "1452   50       Yes  Travel_Frequently        878                   Sales   \n",
      "1453   36        No      Travel_Rarely       1120                   Sales   \n",
      "1454   45        No      Travel_Rarely        374                   Sales   \n",
      "1455   40        No      Travel_Rarely       1322  Research & Development   \n",
      "1456   35        No  Travel_Frequently       1199  Research & Development   \n",
      "1457   40        No      Travel_Rarely       1194  Research & Development   \n",
      "1458   35        No      Travel_Rarely        287  Research & Development   \n",
      "1459   29        No      Travel_Rarely       1378  Research & Development   \n",
      "1460   29        No      Travel_Rarely        468  Research & Development   \n",
      "1461   50       Yes      Travel_Rarely        410                   Sales   \n",
      "1462   39        No      Travel_Rarely        722                   Sales   \n",
      "1463   31        No         Non-Travel        325  Research & Development   \n",
      "1464   26        No      Travel_Rarely       1167                   Sales   \n",
      "1465   36        No  Travel_Frequently        884  Research & Development   \n",
      "1466   39        No      Travel_Rarely        613  Research & Development   \n",
      "1467   27        No      Travel_Rarely        155  Research & Development   \n",
      "1468   49        No  Travel_Frequently       1023                   Sales   \n",
      "1469   34        No      Travel_Rarely        628  Research & Development   \n",
      "\n",
      "      DistanceFromHome  Education    EducationField  EmployeeCount  \\\n",
      "0                    1          2     Life Sciences              1   \n",
      "1                    8          1     Life Sciences              1   \n",
      "2                    2          2             Other              1   \n",
      "3                    3          4     Life Sciences              1   \n",
      "4                    2          1           Medical              1   \n",
      "5                    2          2     Life Sciences              1   \n",
      "6                    3          3           Medical              1   \n",
      "7                   24          1     Life Sciences              1   \n",
      "8                   23          3     Life Sciences              1   \n",
      "9                   27          3           Medical              1   \n",
      "10                  16          3           Medical              1   \n",
      "11                  15          2     Life Sciences              1   \n",
      "12                  26          1     Life Sciences              1   \n",
      "13                  19          2           Medical              1   \n",
      "14                  24          3     Life Sciences              1   \n",
      "15                  21          4     Life Sciences              1   \n",
      "16                   5          2     Life Sciences              1   \n",
      "17                  16          2           Medical              1   \n",
      "18                   2          4     Life Sciences              1   \n",
      "19                   2          3     Life Sciences              1   \n",
      "20                  11          2             Other              1   \n",
      "21                   9          4     Life Sciences              1   \n",
      "22                   7          4     Life Sciences              1   \n",
      "23                  15          2     Life Sciences              1   \n",
      "24                   6          1           Medical              1   \n",
      "25                   5          3             Other              1   \n",
      "26                  16          1     Life Sciences              1   \n",
      "27                   8          4         Marketing              1   \n",
      "28                   7          4           Medical              1   \n",
      "29                   2          4         Marketing              1   \n",
      "...                ...        ...               ...            ...   \n",
      "1440                 4          2     Life Sciences              1   \n",
      "1441                 1          4     Life Sciences              1   \n",
      "1442                 1          4           Medical              1   \n",
      "1443                 2          3     Life Sciences              1   \n",
      "1444                 7          2  Technical Degree              1   \n",
      "1445                28          4     Life Sciences              1   \n",
      "1446                28          3         Marketing              1   \n",
      "1447                15          4         Marketing              1   \n",
      "1448                 3          3     Life Sciences              1   \n",
      "1449                 2          3  Technical Degree              1   \n",
      "1450                26          4     Life Sciences              1   \n",
      "1451                10          2     Life Sciences              1   \n",
      "1452                 1          4     Life Sciences              1   \n",
      "1453                11          4         Marketing              1   \n",
      "1454                20          3     Life Sciences              1   \n",
      "1455                 2          4     Life Sciences              1   \n",
      "1456                18          4     Life Sciences              1   \n",
      "1457                 2          4           Medical              1   \n",
      "1458                 1          4     Life Sciences              1   \n",
      "1459                13          2             Other              1   \n",
      "1460                28          4           Medical              1   \n",
      "1461                28          3         Marketing              1   \n",
      "1462                24          1         Marketing              1   \n",
      "1463                 5          3           Medical              1   \n",
      "1464                 5          3             Other              1   \n",
      "1465                23          2           Medical              1   \n",
      "1466                 6          1           Medical              1   \n",
      "1467                 4          3     Life Sciences              1   \n",
      "1468                 2          3           Medical              1   \n",
      "1469                 8          3           Medical              1   \n",
      "\n",
      "      EmployeeNumber          ...           RelationshipSatisfaction  \\\n",
      "0                  1          ...                                  1   \n",
      "1                  2          ...                                  4   \n",
      "2                  4          ...                                  2   \n",
      "3                  5          ...                                  3   \n",
      "4                  7          ...                                  4   \n",
      "5                  8          ...                                  3   \n",
      "6                 10          ...                                  1   \n",
      "7                 11          ...                                  2   \n",
      "8                 12          ...                                  2   \n",
      "9                 13          ...                                  2   \n",
      "10                14          ...                                  3   \n",
      "11                15          ...                                  4   \n",
      "12                16          ...                                  4   \n",
      "13                18          ...                                  3   \n",
      "14                19          ...                                  2   \n",
      "15                20          ...                                  3   \n",
      "16                21          ...                                  4   \n",
      "17                22          ...                                  2   \n",
      "18                23          ...                                  3   \n",
      "19                24          ...                                  3   \n",
      "20                26          ...                                  4   \n",
      "21                27          ...                                  2   \n",
      "22                28          ...                                  3   \n",
      "23                30          ...                                  4   \n",
      "24                31          ...                                  3   \n",
      "25                32          ...                                  4   \n",
      "26                33          ...                                  2   \n",
      "27                35          ...                                  4   \n",
      "28                36          ...                                  4   \n",
      "29                38          ...                                  4   \n",
      "...              ...          ...                                ...   \n",
      "1440            2025          ...                                  2   \n",
      "1441            2026          ...                                  1   \n",
      "1442            2027          ...                                  2   \n",
      "1443            2031          ...                                  1   \n",
      "1444            2032          ...                                  4   \n",
      "1445            2034          ...                                  3   \n",
      "1446            2035          ...                                  4   \n",
      "1447            2036          ...                                  1   \n",
      "1448            2037          ...                                  3   \n",
      "1449            2038          ...                                  4   \n",
      "1450            2040          ...                                  3   \n",
      "1451            2041          ...                                  3   \n",
      "1452            2044          ...                                  4   \n",
      "1453            2045          ...                                  1   \n",
      "1454            2046          ...                                  3   \n",
      "1455            2048          ...                                  4   \n",
      "1456            2049          ...                                  4   \n",
      "1457            2051          ...                                  2   \n",
      "1458            2052          ...                                  4   \n",
      "1459            2053          ...                                  1   \n",
      "1460            2054          ...                                  2   \n",
      "1461            2055          ...                                  2   \n",
      "1462            2056          ...                                  1   \n",
      "1463            2057          ...                                  2   \n",
      "1464            2060          ...                                  4   \n",
      "1465            2061          ...                                  3   \n",
      "1466            2062          ...                                  1   \n",
      "1467            2064          ...                                  2   \n",
      "1468            2065          ...                                  4   \n",
      "1469            2068          ...                                  1   \n",
      "\n",
      "     StandardHours  StockOptionLevel  TotalWorkingYears  \\\n",
      "0               80                 0                  8   \n",
      "1               80                 1                 10   \n",
      "2               80                 0                  7   \n",
      "3               80                 0                  8   \n",
      "4               80                 1                  6   \n",
      "5               80                 0                  8   \n",
      "6               80                 3                 12   \n",
      "7               80                 1                  1   \n",
      "8               80                 0                 10   \n",
      "9               80                 2                 17   \n",
      "10              80                 1                  6   \n",
      "11              80                 0                 10   \n",
      "12              80                 1                  5   \n",
      "13              80                 1                  3   \n",
      "14              80                 0                  6   \n",
      "15              80                 1                 10   \n",
      "16              80                 2                  7   \n",
      "17              80                 2                  1   \n",
      "18              80                 0                 31   \n",
      "19              80                 0                  6   \n",
      "20              80                 1                  5   \n",
      "21              80                 0                 10   \n",
      "22              80                 0                 13   \n",
      "23              80                 0                  0   \n",
      "24              80                 0                  8   \n",
      "25              80                 1                 26   \n",
      "26              80                 0                 10   \n",
      "27              80                 1                 10   \n",
      "28              80                 1                 24   \n",
      "29              80                 0                 22   \n",
      "...            ...               ...                ...   \n",
      "1440            80                 3                 18   \n",
      "1441            80                 1                 13   \n",
      "1442            80                 3                  4   \n",
      "1443            80                 0                 24   \n",
      "1444            80                 1                 14   \n",
      "1445            80                 1                 21   \n",
      "1446            80                 2                  8   \n",
      "1447            80                 1                 15   \n",
      "1448            80                 1                 14   \n",
      "1449            80                 0                  4   \n",
      "1450            80                 0                  9   \n",
      "1451            80                 1                 10   \n",
      "1452            80                 2                 12   \n",
      "1453            80                 1                  8   \n",
      "1454            80                 0                  8   \n",
      "1455            80                 0                  8   \n",
      "1456            80                 2                 10   \n",
      "1457            80                 3                 20   \n",
      "1458            80                 1                  4   \n",
      "1459            80                 1                 10   \n",
      "1460            80                 0                  5   \n",
      "1461            80                 1                 20   \n",
      "1462            80                 1                 21   \n",
      "1463            80                 0                 10   \n",
      "1464            80                 0                  5   \n",
      "1465            80                 1                 17   \n",
      "1466            80                 1                  9   \n",
      "1467            80                 1                  6   \n",
      "1468            80                 0                 17   \n",
      "1469            80                 0                  6   \n",
      "\n",
      "      TrainingTimesLastYear WorkLifeBalance  YearsAtCompany  \\\n",
      "0                         0               1               6   \n",
      "1                         3               3              10   \n",
      "2                         3               3               0   \n",
      "3                         3               3               8   \n",
      "4                         3               3               2   \n",
      "5                         2               2               7   \n",
      "6                         3               2               1   \n",
      "7                         2               3               1   \n",
      "8                         2               3               9   \n",
      "9                         3               2               7   \n",
      "10                        5               3               5   \n",
      "11                        3               3               9   \n",
      "12                        1               2               5   \n",
      "13                        2               3               2   \n",
      "14                        4               3               4   \n",
      "15                        1               3              10   \n",
      "16                        5               2               6   \n",
      "17                        2               2               1   \n",
      "18                        3               3              25   \n",
      "19                        3               3               3   \n",
      "20                        5               2               4   \n",
      "21                        4               3               5   \n",
      "22                        4               3              12   \n",
      "23                        6               3               0   \n",
      "24                        2               3               4   \n",
      "25                        3               2              14   \n",
      "26                        5               3              10   \n",
      "27                        2               3               9   \n",
      "28                        4               3              22   \n",
      "29                        2               2               2   \n",
      "...                     ...             ...             ...   \n",
      "1440                      3               3               4   \n",
      "1441                      2               2              13   \n",
      "1442                      3               4               2   \n",
      "1443                      2               2              22   \n",
      "1444                      4               1              10   \n",
      "1445                      3               3              20   \n",
      "1446                      2               3               8   \n",
      "1447                      4               2              15   \n",
      "1448                      5               3               5   \n",
      "1449                      4               3               4   \n",
      "1450                      2               3               9   \n",
      "1451                      1               3              10   \n",
      "1452                      3               3               6   \n",
      "1453                      2               2               6   \n",
      "1454                      3               3               5   \n",
      "1455                      2               3               2   \n",
      "1456                      2               4              10   \n",
      "1457                      2               3               5   \n",
      "1458                      5               3               4   \n",
      "1459                      2               3               4   \n",
      "1460                      3               1               5   \n",
      "1461                      3               3               3   \n",
      "1462                      2               2              20   \n",
      "1463                      2               3               9   \n",
      "1464                      2               3               4   \n",
      "1465                      3               3               5   \n",
      "1466                      5               3               7   \n",
      "1467                      0               3               6   \n",
      "1468                      3               2               9   \n",
      "1469                      3               4               4   \n",
      "\n",
      "     YearsInCurrentRole  YearsSinceLastPromotion  YearsWithCurrManager  \n",
      "0                     4                        0                     5  \n",
      "1                     7                        1                     7  \n",
      "2                     0                        0                     0  \n",
      "3                     7                        3                     0  \n",
      "4                     2                        2                     2  \n",
      "5                     7                        3                     6  \n",
      "6                     0                        0                     0  \n",
      "7                     0                        0                     0  \n",
      "8                     7                        1                     8  \n",
      "9                     7                        7                     7  \n",
      "10                    4                        0                     3  \n",
      "11                    5                        0                     8  \n",
      "12                    2                        4                     3  \n",
      "13                    2                        1                     2  \n",
      "14                    2                        0                     3  \n",
      "15                    9                        8                     8  \n",
      "16                    2                        0                     5  \n",
      "17                    0                        0                     0  \n",
      "18                    8                        3                     7  \n",
      "19                    2                        1                     2  \n",
      "20                    2                        1                     3  \n",
      "21                    3                        0                     3  \n",
      "22                    6                        2                    11  \n",
      "23                    0                        0                     0  \n",
      "24                    2                        1                     3  \n",
      "25                   13                        4                     8  \n",
      "26                    2                        6                     7  \n",
      "27                    7                        4                     2  \n",
      "28                    6                        5                    17  \n",
      "29                    2                        2                     1  \n",
      "...                 ...                      ...                   ...  \n",
      "1440                  2                        0                     2  \n",
      "1441                 12                        1                     9  \n",
      "1442                  2                        2                     2  \n",
      "1443                  6                        4                    14  \n",
      "1444                  9                        9                     8  \n",
      "1445                  7                        0                    10  \n",
      "1446                  7                        1                     7  \n",
      "1447                 12                       11                    11  \n",
      "1448                  4                        0                     4  \n",
      "1449                  2                        1                     2  \n",
      "1450                  0                        1                     7  \n",
      "1451                  7                        1                     9  \n",
      "1452                  3                        0                     1  \n",
      "1453                  3                        0                     0  \n",
      "1454                  3                        0                     1  \n",
      "1455                  2                        2                     2  \n",
      "1456                  2                        0                     2  \n",
      "1457                  3                        0                     2  \n",
      "1458                  3                        1                     1  \n",
      "1459                  3                        0                     3  \n",
      "1460                  4                        0                     4  \n",
      "1461                  2                        2                     0  \n",
      "1462                  9                        9                     6  \n",
      "1463                  4                        1                     7  \n",
      "1464                  2                        0                     0  \n",
      "1465                  2                        0                     3  \n",
      "1466                  7                        1                     7  \n",
      "1467                  2                        0                     3  \n",
      "1468                  6                        0                     8  \n",
      "1469                  3                        1                     2  \n",
      "\n",
      "[1470 rows x 35 columns]>\n"
     ]
    }
   ],
   "source": [
    "print(df.head)"
   ]
  },
  {
   "cell_type": "markdown",
   "metadata": {},
   "source": [
    "We can create a new dataset in a number of ways. We can generate our data by creating our dataframe and then assign the values we create later for our variables to those cells. Alternatively, we can create our variables and then combine them to create our dataset."
   ]
  },
  {
   "cell_type": "markdown",
   "metadata": {},
   "source": [
    "# 3. Synthesis a dataset "
   ]
  },
  {
   "cell_type": "markdown",
   "metadata": {},
   "source": [
    "For the assignment, I am going to create a dataset that will hold 750 records for Aero-Tech Industries. I am going to create a "
   ]
  },
  {
   "cell_type": "markdown",
   "metadata": {},
   "source": [
    "### Create our Dataframe"
   ]
  },
  {
   "cell_type": "code",
   "execution_count": 168,
   "metadata": {},
   "outputs": [],
   "source": [
    "# Let's create our dataframe\n",
    "df1 = pd.DataFrame(columns=['EmployeeID', 'Commute', 'SatisfactionLevel', 'MonthlyHours','Department', 'Salary', 'TimeSincePromo','Tenure', 'Manager', 'Churn', 'PerformanceReview', 'Age', 'Gender'])"
   ]
  },
  {
   "cell_type": "code",
   "execution_count": 169,
   "metadata": {},
   "outputs": [
    {
     "name": "stdout",
     "output_type": "stream",
     "text": [
      "Empty DataFrame\n",
      "Columns: [EmployeeID, Commute, SatisfactionLevel, MonthlyHours, Department, Salary, TimeSincePromo, Tenure, Manager, Churn, PerformanceReview, Age, Gender]\n",
      "Index: []\n"
     ]
    }
   ],
   "source": [
    "print(df1.head())"
   ]
  },
  {
   "cell_type": "markdown",
   "metadata": {},
   "source": [
    "### Create our variables"
   ]
  },
  {
   "cell_type": "code",
   "execution_count": 170,
   "metadata": {},
   "outputs": [],
   "source": [
    "#Our employee ID is going to be a sequence to uniquely identify our employee\n",
    "EmpID = np.arange(1, 751)"
   ]
  },
  {
   "cell_type": "code",
   "execution_count": 171,
   "metadata": {},
   "outputs": [],
   "source": [
    "np.random.seed(12)\n",
    "Comm = np.random.gamma(.9, 15,  750)"
   ]
  },
  {
   "cell_type": "code",
   "execution_count": 172,
   "metadata": {},
   "outputs": [
    {
     "data": {
      "text/plain": [
       "<matplotlib.axes._subplots.AxesSubplot at 0x1958f96c358>"
      ]
     },
     "execution_count": 172,
     "metadata": {},
     "output_type": "execute_result"
    },
    {
     "data": {
      "image/png": "[encoded data removed]",
      "text/plain": [
       "<Figure size 432x288 with 1 Axes>"
      ]
     },
     "metadata": {},
     "output_type": "display_data"
    }
   ],
   "source": [
    "sns.distplot(Comm)"
   ]
  },
  {
   "cell_type": "code",
   "execution_count": 181,
   "metadata": {},
   "outputs": [],
   "source": [
    "ratings1 = ['0','1','2', '3', '4']\n",
    "ratings2 = np.random.choice(ratings1,p=[0,.2,0.5, 0.2,0.1], size = 750)"
   ]
  },
  {
   "cell_type": "code",
   "execution_count": 182,
   "metadata": {},
   "outputs": [
    {
     "data": {
      "text/plain": [
       "<matplotlib.axes._subplots.AxesSubplot at 0x1958f49ce48>"
      ]
     },
     "execution_count": 182,
     "metadata": {},
     "output_type": "execute_result"
    },
    {
     "data": {
      "image/png": "[encoded data removed]",
      "text/plain": [
       "<Figure size 432x288 with 1 Axes>"
      ]
     },
     "metadata": {},
     "output_type": "display_data"
    }
   ],
   "source": [
    "sns.countplot(ratings2)"
   ]
  },
  {
   "cell_type": "code",
   "execution_count": 190,
   "metadata": {},
   "outputs": [],
   "source": [
    "mu, sigma = 37.5, .8\n",
    "hours = np.random.normal(mu, sigma, size=750)"
   ]
  },
  {
   "cell_type": "code",
   "execution_count": 191,
   "metadata": {},
   "outputs": [
    {
     "data": {
      "text/plain": [
       "<matplotlib.axes._subplots.AxesSubplot at 0x1958de77f28>"
      ]
     },
     "execution_count": 191,
     "metadata": {},
     "output_type": "execute_result"
    },
    {
     "data": {
      "image/png": "[encoded data removed]",
      "text/plain": [
       "<Figure size 432x288 with 1 Axes>"
      ]
     },
     "metadata": {},
     "output_type": "display_data"
    }
   ],
   "source": [
    "sns.distplot(hours)"
   ]
  },
  {
   "cell_type": "code",
   "execution_count": null,
   "metadata": {},
   "outputs": [],
   "source": []
  },
  {
   "cell_type": "code",
   "execution_count": 192,
   "metadata": {},
   "outputs": [],
   "source": [
    "#EmpID"
   ]
  },
  {
   "cell_type": "code",
   "execution_count": 203,
   "metadata": {},
   "outputs": [],
   "source": [
    "df1['EmployeeID'] = EmpID"
   ]
  },
  {
   "cell_type": "code",
   "execution_count": 204,
   "metadata": {},
   "outputs": [],
   "source": [
    "df1['Commute'] = Comm"
   ]
  },
  {
   "cell_type": "code",
   "execution_count": 205,
   "metadata": {},
   "outputs": [],
   "source": [
    "df1['SatisfactionLevel'] = ratings2 "
   ]
  },
  {
   "cell_type": "code",
   "execution_count": 206,
   "metadata": {},
   "outputs": [],
   "source": [
    "df1['WeeklyHours'] = hours "
   ]
  },
  {
   "cell_type": "code",
   "execution_count": 200,
   "metadata": {},
   "outputs": [
    {
     "ename": "SyntaxError",
     "evalue": "invalid syntax (<ipython-input-200-344ec55c083c>, line 1)",
     "output_type": "error",
     "traceback": [
      "\u001b[1;36m  File \u001b[1;32m\"<ipython-input-200-344ec55c083c>\"\u001b[1;36m, line \u001b[1;32m1\u001b[0m\n\u001b[1;33m    df1[''] =\u001b[0m\n\u001b[1;37m              ^\u001b[0m\n\u001b[1;31mSyntaxError\u001b[0m\u001b[1;31m:\u001b[0m invalid syntax\n"
     ]
    }
   ],
   "source": [
    "df1[''] = "
   ]
  },
  {
   "cell_type": "code",
   "execution_count": 201,
   "metadata": {},
   "outputs": [
    {
     "ename": "SyntaxError",
     "evalue": "invalid syntax (<ipython-input-201-344ec55c083c>, line 1)",
     "output_type": "error",
     "traceback": [
      "\u001b[1;36m  File \u001b[1;32m\"<ipython-input-201-344ec55c083c>\"\u001b[1;36m, line \u001b[1;32m1\u001b[0m\n\u001b[1;33m    df1[''] =\u001b[0m\n\u001b[1;37m              ^\u001b[0m\n\u001b[1;31mSyntaxError\u001b[0m\u001b[1;31m:\u001b[0m invalid syntax\n"
     ]
    }
   ],
   "source": [
    "df1[''] = "
   ]
  },
  {
   "cell_type": "code",
   "execution_count": 202,
   "metadata": {},
   "outputs": [
    {
     "ename": "SyntaxError",
     "evalue": "invalid syntax (<ipython-input-202-344ec55c083c>, line 1)",
     "output_type": "error",
     "traceback": [
      "\u001b[1;36m  File \u001b[1;32m\"<ipython-input-202-344ec55c083c>\"\u001b[1;36m, line \u001b[1;32m1\u001b[0m\n\u001b[1;33m    df1[''] =\u001b[0m\n\u001b[1;37m              ^\u001b[0m\n\u001b[1;31mSyntaxError\u001b[0m\u001b[1;31m:\u001b[0m invalid syntax\n"
     ]
    }
   ],
   "source": [
    "df1[''] = "
   ]
  },
  {
   "cell_type": "code",
   "execution_count": null,
   "metadata": {},
   "outputs": [],
   "source": [
    "df1[''] = "
   ]
  },
  {
   "cell_type": "code",
   "execution_count": null,
   "metadata": {},
   "outputs": [],
   "source": [
    "df1[''] = "
   ]
  },
  {
   "cell_type": "code",
   "execution_count": 207,
   "metadata": {},
   "outputs": [
    {
     "data": {
      "text/plain": [
       "<bound method NDFrame.head of      EmployeeID    Commute SatisfactionLevel MonthlyHours Department Salary  \\\n",
       "0             1   1.901662                 2          NaN        NaN    NaN   \n",
       "1             2   3.649100                 2          NaN        NaN    NaN   \n",
       "2             3   0.136664                 4          NaN        NaN    NaN   \n",
       "3             4  47.764012                 2          NaN        NaN    NaN   \n",
       "4             5   4.018673                 2          NaN        NaN    NaN   \n",
       "5             6  43.423278                 2          NaN        NaN    NaN   \n",
       "6             7   0.017221                 2          NaN        NaN    NaN   \n",
       "7             8  10.540201                 2          NaN        NaN    NaN   \n",
       "8             9  20.430832                 2          NaN        NaN    NaN   \n",
       "9            10  20.194341                 3          NaN        NaN    NaN   \n",
       "10           11   1.633291                 2          NaN        NaN    NaN   \n",
       "11           12   4.509100                 2          NaN        NaN    NaN   \n",
       "12           13   8.167978                 3          NaN        NaN    NaN   \n",
       "13           14   4.124965                 2          NaN        NaN    NaN   \n",
       "14           15  16.619291                 2          NaN        NaN    NaN   \n",
       "15           16   4.997446                 2          NaN        NaN    NaN   \n",
       "16           17  13.127584                 2          NaN        NaN    NaN   \n",
       "17           18  20.386962                 2          NaN        NaN    NaN   \n",
       "18           19   6.558363                 2          NaN        NaN    NaN   \n",
       "19           20   6.419378                 4          NaN        NaN    NaN   \n",
       "20           21   2.246921                 1          NaN        NaN    NaN   \n",
       "21           22   6.855655                 2          NaN        NaN    NaN   \n",
       "22           23   7.954175                 2          NaN        NaN    NaN   \n",
       "23           24   8.016202                 4          NaN        NaN    NaN   \n",
       "24           25   0.960307                 2          NaN        NaN    NaN   \n",
       "25           26  13.593688                 1          NaN        NaN    NaN   \n",
       "26           27   4.323307                 3          NaN        NaN    NaN   \n",
       "27           28   0.597957                 2          NaN        NaN    NaN   \n",
       "28           29   6.787061                 2          NaN        NaN    NaN   \n",
       "29           30  11.216094                 2          NaN        NaN    NaN   \n",
       "..          ...        ...               ...          ...        ...    ...   \n",
       "720         721   1.992357                 3          NaN        NaN    NaN   \n",
       "721         722   6.650339                 1          NaN        NaN    NaN   \n",
       "722         723   3.737526                 2          NaN        NaN    NaN   \n",
       "723         724   0.923371                 2          NaN        NaN    NaN   \n",
       "724         725  10.876757                 4          NaN        NaN    NaN   \n",
       "725         726   4.568965                 2          NaN        NaN    NaN   \n",
       "726         727   1.754908                 2          NaN        NaN    NaN   \n",
       "727         728   2.530459                 2          NaN        NaN    NaN   \n",
       "728         729  34.483985                 2          NaN        NaN    NaN   \n",
       "729         730  10.784469                 4          NaN        NaN    NaN   \n",
       "730         731   3.788999                 2          NaN        NaN    NaN   \n",
       "731         732   1.834533                 2          NaN        NaN    NaN   \n",
       "732         733   0.017802                 2          NaN        NaN    NaN   \n",
       "733         734  45.339553                 2          NaN        NaN    NaN   \n",
       "734         735   1.428213                 2          NaN        NaN    NaN   \n",
       "735         736  38.799126                 1          NaN        NaN    NaN   \n",
       "736         737   9.326149                 2          NaN        NaN    NaN   \n",
       "737         738   7.376196                 2          NaN        NaN    NaN   \n",
       "738         739  17.096707                 2          NaN        NaN    NaN   \n",
       "739         740   5.186530                 1          NaN        NaN    NaN   \n",
       "740         741   1.876158                 3          NaN        NaN    NaN   \n",
       "741         742   0.007888                 3          NaN        NaN    NaN   \n",
       "742         743   4.652982                 4          NaN        NaN    NaN   \n",
       "743         744   6.376607                 1          NaN        NaN    NaN   \n",
       "744         745  26.131558                 1          NaN        NaN    NaN   \n",
       "745         746  25.925431                 2          NaN        NaN    NaN   \n",
       "746         747   6.643415                 2          NaN        NaN    NaN   \n",
       "747         748  27.615227                 3          NaN        NaN    NaN   \n",
       "748         749   0.380765                 2          NaN        NaN    NaN   \n",
       "749         750   3.130807                 3          NaN        NaN    NaN   \n",
       "\n",
       "    TimeSincePromo Tenure Manager Churn PerformanceReview  Age Gender  \\\n",
       "0              NaN    NaN     NaN   NaN               NaN  NaN    NaN   \n",
       "1              NaN    NaN     NaN   NaN               NaN  NaN    NaN   \n",
       "2              NaN    NaN     NaN   NaN               NaN  NaN    NaN   \n",
       "3              NaN    NaN     NaN   NaN               NaN  NaN    NaN   \n",
       "4              NaN    NaN     NaN   NaN               NaN  NaN    NaN   \n",
       "5              NaN    NaN     NaN   NaN               NaN  NaN    NaN   \n",
       "6              NaN    NaN     NaN   NaN               NaN  NaN    NaN   \n",
       "7              NaN    NaN     NaN   NaN               NaN  NaN    NaN   \n",
       "8              NaN    NaN     NaN   NaN               NaN  NaN    NaN   \n",
       "9              NaN    NaN     NaN   NaN               NaN  NaN    NaN   \n",
       "10             NaN    NaN     NaN   NaN               NaN  NaN    NaN   \n",
       "11             NaN    NaN     NaN   NaN               NaN  NaN    NaN   \n",
       "12             NaN    NaN     NaN   NaN               NaN  NaN    NaN   \n",
       "13             NaN    NaN     NaN   NaN               NaN  NaN    NaN   \n",
       "14             NaN    NaN     NaN   NaN               NaN  NaN    NaN   \n",
       "15             NaN    NaN     NaN   NaN               NaN  NaN    NaN   \n",
       "16             NaN    NaN     NaN   NaN               NaN  NaN    NaN   \n",
       "17             NaN    NaN     NaN   NaN               NaN  NaN    NaN   \n",
       "18             NaN    NaN     NaN   NaN               NaN  NaN    NaN   \n",
       "19             NaN    NaN     NaN   NaN               NaN  NaN    NaN   \n",
       "20             NaN    NaN     NaN   NaN               NaN  NaN    NaN   \n",
       "21             NaN    NaN     NaN   NaN               NaN  NaN    NaN   \n",
       "22             NaN    NaN     NaN   NaN               NaN  NaN    NaN   \n",
       "23             NaN    NaN     NaN   NaN               NaN  NaN    NaN   \n",
       "24             NaN    NaN     NaN   NaN               NaN  NaN    NaN   \n",
       "25             NaN    NaN     NaN   NaN               NaN  NaN    NaN   \n",
       "26             NaN    NaN     NaN   NaN               NaN  NaN    NaN   \n",
       "27             NaN    NaN     NaN   NaN               NaN  NaN    NaN   \n",
       "28             NaN    NaN     NaN   NaN               NaN  NaN    NaN   \n",
       "29             NaN    NaN     NaN   NaN               NaN  NaN    NaN   \n",
       "..             ...    ...     ...   ...               ...  ...    ...   \n",
       "720            NaN    NaN     NaN   NaN               NaN  NaN    NaN   \n",
       "721            NaN    NaN     NaN   NaN               NaN  NaN    NaN   \n",
       "722            NaN    NaN     NaN   NaN               NaN  NaN    NaN   \n",
       "723            NaN    NaN     NaN   NaN               NaN  NaN    NaN   \n",
       "724            NaN    NaN     NaN   NaN               NaN  NaN    NaN   \n",
       "725            NaN    NaN     NaN   NaN               NaN  NaN    NaN   \n",
       "726            NaN    NaN     NaN   NaN               NaN  NaN    NaN   \n",
       "727            NaN    NaN     NaN   NaN               NaN  NaN    NaN   \n",
       "728            NaN    NaN     NaN   NaN               NaN  NaN    NaN   \n",
       "729            NaN    NaN     NaN   NaN               NaN  NaN    NaN   \n",
       "730            NaN    NaN     NaN   NaN               NaN  NaN    NaN   \n",
       "731            NaN    NaN     NaN   NaN               NaN  NaN    NaN   \n",
       "732            NaN    NaN     NaN   NaN               NaN  NaN    NaN   \n",
       "733            NaN    NaN     NaN   NaN               NaN  NaN    NaN   \n",
       "734            NaN    NaN     NaN   NaN               NaN  NaN    NaN   \n",
       "735            NaN    NaN     NaN   NaN               NaN  NaN    NaN   \n",
       "736            NaN    NaN     NaN   NaN               NaN  NaN    NaN   \n",
       "737            NaN    NaN     NaN   NaN               NaN  NaN    NaN   \n",
       "738            NaN    NaN     NaN   NaN               NaN  NaN    NaN   \n",
       "739            NaN    NaN     NaN   NaN               NaN  NaN    NaN   \n",
       "740            NaN    NaN     NaN   NaN               NaN  NaN    NaN   \n",
       "741            NaN    NaN     NaN   NaN               NaN  NaN    NaN   \n",
       "742            NaN    NaN     NaN   NaN               NaN  NaN    NaN   \n",
       "743            NaN    NaN     NaN   NaN               NaN  NaN    NaN   \n",
       "744            NaN    NaN     NaN   NaN               NaN  NaN    NaN   \n",
       "745            NaN    NaN     NaN   NaN               NaN  NaN    NaN   \n",
       "746            NaN    NaN     NaN   NaN               NaN  NaN    NaN   \n",
       "747            NaN    NaN     NaN   NaN               NaN  NaN    NaN   \n",
       "748            NaN    NaN     NaN   NaN               NaN  NaN    NaN   \n",
       "749            NaN    NaN     NaN   NaN               NaN  NaN    NaN   \n",
       "\n",
       "    Satisfaction  WeeklyHours  \n",
       "0              2    36.751460  \n",
       "1              2    38.990212  \n",
       "2              4    36.613062  \n",
       "3              2    38.363182  \n",
       "4              2    37.980803  \n",
       "5              2    37.110421  \n",
       "6              2    36.388233  \n",
       "7              2    38.167850  \n",
       "8              2    35.386239  \n",
       "9              3    38.021330  \n",
       "10             2    37.052619  \n",
       "11             2    38.067485  \n",
       "12             3    37.957088  \n",
       "13             2    37.250099  \n",
       "14             2    39.705381  \n",
       "15             2    36.894271  \n",
       "16             2    37.096171  \n",
       "17             2    36.134942  \n",
       "18             2    36.279680  \n",
       "19             4    37.503181  \n",
       "20             1    38.716304  \n",
       "21             2    35.793156  \n",
       "22             2    37.816020  \n",
       "23             4    38.080847  \n",
       "24             2    36.760169  \n",
       "25             1    37.233135  \n",
       "26             3    37.645172  \n",
       "27             2    37.542443  \n",
       "28             2    39.079668  \n",
       "29             2    38.582046  \n",
       "..           ...          ...  \n",
       "720            3    38.139659  \n",
       "721            1    37.192833  \n",
       "722            2    35.512655  \n",
       "723            2    37.608900  \n",
       "724            4    38.407017  \n",
       "725            2    36.979123  \n",
       "726            2    37.597603  \n",
       "727            2    38.156608  \n",
       "728            2    39.223646  \n",
       "729            4    37.989131  \n",
       "730            2    37.444154  \n",
       "731            2    37.018130  \n",
       "732            2    36.447839  \n",
       "733            2    37.341105  \n",
       "734            2    37.656819  \n",
       "735            1    38.887366  \n",
       "736            2    37.396287  \n",
       "737            2    37.862587  \n",
       "738            2    37.826398  \n",
       "739            1    37.645645  \n",
       "740            3    38.696349  \n",
       "741            3    37.413154  \n",
       "742            4    38.117920  \n",
       "743            1    39.708994  \n",
       "744            1    37.972135  \n",
       "745            2    38.432939  \n",
       "746            2    37.529280  \n",
       "747            3    37.037322  \n",
       "748            2    37.566686  \n",
       "749            3    36.621600  \n",
       "\n",
       "[750 rows x 15 columns]>"
      ]
     },
     "execution_count": 207,
     "metadata": {},
     "output_type": "execute_result"
    }
   ],
   "source": [
    "df1.head"
   ]
  },
  {
   "cell_type": "markdown",
   "metadata": {},
   "source": [
    "# 4. Detail research and implement the simulation "
   ]
  },
  {
   "cell_type": "code",
   "execution_count": null,
   "metadata": {},
   "outputs": [],
   "source": []
  },
  {
   "cell_type": "code",
   "execution_count": null,
   "metadata": {},
   "outputs": [],
   "source": []
  }
 ],
 "metadata": {
  "kernelspec": {
   "display_name": "Python 3",
   "language": "python",
   "name": "python3"
  },
  "language_info": {
   "codemirror_mode": {
    "name": "ipython",
    "version": 3
   },
   "file_extension": ".py",
   "mimetype": "text/x-python",
   "name": "python",
   "nbconvert_exporter": "python",
   "pygments_lexer": "ipython3",
   "version": "3.7.1"
  }
 },
 "nbformat": 4,
 "nbformat_minor": 2
}
